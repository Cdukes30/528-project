{
 "cells": [
  {
   "cell_type": "code",
   "execution_count": 1,
   "metadata": {
    "colab": {
     "base_uri": "https://localhost:8080/"
    },
    "id": "rRcf-nMUC41l",
    "outputId": "ba2d02d1-8b14-4ab1-8563-5ae4ffbbb517"
   },
   "outputs": [
    {
     "name": "stdout",
     "output_type": "stream",
     "text": [
      "Requirement already satisfied: mediapipe in /Applications/anaconda3/lib/python3.9/site-packages (0.9.0.1)\n",
      "Requirement already satisfied: opencv-python in /Applications/anaconda3/lib/python3.9/site-packages (4.6.0.66)\n",
      "Requirement already satisfied: pandas in /Applications/anaconda3/lib/python3.9/site-packages (1.3.4)\n",
      "Requirement already satisfied: scikit-learn in /Applications/anaconda3/lib/python3.9/site-packages (0.24.2)\n",
      "Requirement already satisfied: protobuf<4,>=3.11 in /Applications/anaconda3/lib/python3.9/site-packages (from mediapipe) (3.19.4)\n",
      "Requirement already satisfied: attrs>=19.1.0 in /Applications/anaconda3/lib/python3.9/site-packages (from mediapipe) (21.2.0)\n",
      "Requirement already satisfied: numpy in /Applications/anaconda3/lib/python3.9/site-packages (from mediapipe) (1.20.3)\n",
      "Requirement already satisfied: flatbuffers>=2.0 in /Applications/anaconda3/lib/python3.9/site-packages (from mediapipe) (22.12.6)\n",
      "Requirement already satisfied: matplotlib in /Applications/anaconda3/lib/python3.9/site-packages (from mediapipe) (3.4.3)\n",
      "Requirement already satisfied: absl-py in /Applications/anaconda3/lib/python3.9/site-packages (from mediapipe) (1.2.0)\n",
      "Requirement already satisfied: opencv-contrib-python in /Applications/anaconda3/lib/python3.9/site-packages (from mediapipe) (4.6.0.66)\n",
      "Requirement already satisfied: python-dateutil>=2.7.3 in /Applications/anaconda3/lib/python3.9/site-packages (from pandas) (2.8.2)\n",
      "Requirement already satisfied: pytz>=2017.3 in /Applications/anaconda3/lib/python3.9/site-packages (from pandas) (2021.3)\n",
      "Requirement already satisfied: joblib>=0.11 in /Applications/anaconda3/lib/python3.9/site-packages (from scikit-learn) (1.1.0)\n",
      "Requirement already satisfied: threadpoolctl>=2.0.0 in /Applications/anaconda3/lib/python3.9/site-packages (from scikit-learn) (2.2.0)\n",
      "Requirement already satisfied: scipy>=0.19.1 in /Applications/anaconda3/lib/python3.9/site-packages (from scikit-learn) (1.7.1)\n",
      "Requirement already satisfied: six>=1.5 in /Applications/anaconda3/lib/python3.9/site-packages (from python-dateutil>=2.7.3->pandas) (1.16.0)\n",
      "Requirement already satisfied: pyparsing>=2.2.1 in /Applications/anaconda3/lib/python3.9/site-packages (from matplotlib->mediapipe) (3.0.4)\n",
      "Requirement already satisfied: pillow>=6.2.0 in /Applications/anaconda3/lib/python3.9/site-packages (from matplotlib->mediapipe) (8.4.0)\n",
      "Requirement already satisfied: kiwisolver>=1.0.1 in /Applications/anaconda3/lib/python3.9/site-packages (from matplotlib->mediapipe) (1.3.1)\n",
      "Requirement already satisfied: cycler>=0.10 in /Applications/anaconda3/lib/python3.9/site-packages (from matplotlib->mediapipe) (0.10.0)\n",
      "\u001b[33mWARNING: You are using pip version 22.1.2; however, version 22.3.1 is available.\n",
      "You should consider upgrading via the '/Applications/anaconda3/bin/python -m pip install --upgrade pip' command.\u001b[0m\n",
      "Note: you may need to restart the kernel to use updated packages.\n"
     ]
    }
   ],
   "source": [
    "%pip install mediapipe opencv-python pandas scikit-learn"
   ]
  },
  {
   "cell_type": "code",
   "execution_count": 2,
   "metadata": {
    "id": "xOSSrERtDSX2"
   },
   "outputs": [],
   "source": [
    "import mediapipe as mp\n",
    "import cv2\n",
    "import numpy as np\n",
    "import pandas as pd\n",
    "from sklearn.model_selection import train_test_split"
   ]
  },
  {
   "cell_type": "code",
   "execution_count": 3,
   "metadata": {
    "id": "yJnTQHa7i66k"
   },
   "outputs": [],
   "source": [
    "landmarks=['class']\n",
    "for val in range(1,33+1):\n",
    "    landmarks+= ['x{}'.format(val), 'y{}'.format(val),'z{}'.format(val), 'v{}'.format(val)]"
   ]
  },
  {
   "cell_type": "code",
   "execution_count": null,
   "metadata": {
    "colab": {
     "base_uri": "https://localhost:8080/",
     "height": 237
    },
    "id": "-_7VgM7TDScM",
    "outputId": "0928ff3d-9a69-4043-afd0-1705318b1ced"
   },
   "outputs": [],
   "source": []
  },
  {
   "cell_type": "code",
   "execution_count": 4,
   "metadata": {
    "id": "m4zlIfjuDSfY"
   },
   "outputs": [],
   "source": [
    "df = pd.read_csv('fitpose.csv')"
   ]
  },
  {
   "cell_type": "code",
   "execution_count": 5,
   "metadata": {
    "colab": {
     "base_uri": "https://localhost:8080/",
     "height": 235
    },
    "id": "qWiUCs4DDSih",
    "outputId": "13875c3b-4db9-4970-8e70-edbaa4a04c74"
   },
   "outputs": [
    {
     "data": {
      "text/html": [
       "<div>\n",
       "<style scoped>\n",
       "    .dataframe tbody tr th:only-of-type {\n",
       "        vertical-align: middle;\n",
       "    }\n",
       "\n",
       "    .dataframe tbody tr th {\n",
       "        vertical-align: top;\n",
       "    }\n",
       "\n",
       "    .dataframe thead th {\n",
       "        text-align: right;\n",
       "    }\n",
       "</style>\n",
       "<table border=\"1\" class=\"dataframe\">\n",
       "  <thead>\n",
       "    <tr style=\"text-align: right;\">\n",
       "      <th></th>\n",
       "      <th>class</th>\n",
       "      <th>x1</th>\n",
       "      <th>y1</th>\n",
       "      <th>z1</th>\n",
       "      <th>v1</th>\n",
       "      <th>x2</th>\n",
       "      <th>y2</th>\n",
       "      <th>z2</th>\n",
       "      <th>v2</th>\n",
       "      <th>x3</th>\n",
       "      <th>...</th>\n",
       "      <th>z31</th>\n",
       "      <th>v31</th>\n",
       "      <th>x32</th>\n",
       "      <th>y32</th>\n",
       "      <th>z32</th>\n",
       "      <th>v32</th>\n",
       "      <th>x33</th>\n",
       "      <th>y33</th>\n",
       "      <th>z33</th>\n",
       "      <th>v33</th>\n",
       "    </tr>\n",
       "  </thead>\n",
       "  <tbody>\n",
       "    <tr>\n",
       "      <th>0</th>\n",
       "      <td>Down</td>\n",
       "      <td>0.227216</td>\n",
       "      <td>0.571094</td>\n",
       "      <td>-0.257690</td>\n",
       "      <td>0.999994</td>\n",
       "      <td>0.232845</td>\n",
       "      <td>0.555611</td>\n",
       "      <td>-0.230651</td>\n",
       "      <td>0.999993</td>\n",
       "      <td>0.236205</td>\n",
       "      <td>...</td>\n",
       "      <td>0.172732</td>\n",
       "      <td>0.252686</td>\n",
       "      <td>0.234479</td>\n",
       "      <td>1.056914</td>\n",
       "      <td>0.083820</td>\n",
       "      <td>0.360088</td>\n",
       "      <td>0.103202</td>\n",
       "      <td>1.087854</td>\n",
       "      <td>0.092280</td>\n",
       "      <td>0.268347</td>\n",
       "    </tr>\n",
       "    <tr>\n",
       "      <th>1</th>\n",
       "      <td>Down</td>\n",
       "      <td>0.235080</td>\n",
       "      <td>0.623923</td>\n",
       "      <td>-0.333948</td>\n",
       "      <td>0.999922</td>\n",
       "      <td>0.238113</td>\n",
       "      <td>0.611175</td>\n",
       "      <td>-0.308579</td>\n",
       "      <td>0.999929</td>\n",
       "      <td>0.241612</td>\n",
       "      <td>...</td>\n",
       "      <td>-0.013395</td>\n",
       "      <td>0.363007</td>\n",
       "      <td>0.260519</td>\n",
       "      <td>1.060243</td>\n",
       "      <td>-0.072519</td>\n",
       "      <td>0.309654</td>\n",
       "      <td>0.119329</td>\n",
       "      <td>1.061707</td>\n",
       "      <td>-0.103866</td>\n",
       "      <td>0.260115</td>\n",
       "    </tr>\n",
       "    <tr>\n",
       "      <th>2</th>\n",
       "      <td>Down</td>\n",
       "      <td>0.232097</td>\n",
       "      <td>0.574195</td>\n",
       "      <td>-0.226946</td>\n",
       "      <td>0.999985</td>\n",
       "      <td>0.235886</td>\n",
       "      <td>0.560842</td>\n",
       "      <td>-0.198609</td>\n",
       "      <td>0.999984</td>\n",
       "      <td>0.239084</td>\n",
       "      <td>...</td>\n",
       "      <td>0.107273</td>\n",
       "      <td>0.258590</td>\n",
       "      <td>0.225889</td>\n",
       "      <td>1.046079</td>\n",
       "      <td>0.065021</td>\n",
       "      <td>0.316079</td>\n",
       "      <td>0.097413</td>\n",
       "      <td>1.073070</td>\n",
       "      <td>0.027996</td>\n",
       "      <td>0.305728</td>\n",
       "    </tr>\n",
       "    <tr>\n",
       "      <th>3</th>\n",
       "      <td>Down</td>\n",
       "      <td>0.236788</td>\n",
       "      <td>0.630142</td>\n",
       "      <td>-0.321774</td>\n",
       "      <td>0.999971</td>\n",
       "      <td>0.239395</td>\n",
       "      <td>0.616342</td>\n",
       "      <td>-0.300153</td>\n",
       "      <td>0.999976</td>\n",
       "      <td>0.242642</td>\n",
       "      <td>...</td>\n",
       "      <td>0.100267</td>\n",
       "      <td>0.373190</td>\n",
       "      <td>0.268318</td>\n",
       "      <td>1.026149</td>\n",
       "      <td>0.046115</td>\n",
       "      <td>0.239335</td>\n",
       "      <td>0.125047</td>\n",
       "      <td>1.024563</td>\n",
       "      <td>0.044726</td>\n",
       "      <td>0.191303</td>\n",
       "    </tr>\n",
       "    <tr>\n",
       "      <th>4</th>\n",
       "      <td>Down</td>\n",
       "      <td>0.239528</td>\n",
       "      <td>0.629507</td>\n",
       "      <td>-0.325043</td>\n",
       "      <td>0.999986</td>\n",
       "      <td>0.242136</td>\n",
       "      <td>0.614786</td>\n",
       "      <td>-0.302403</td>\n",
       "      <td>0.999985</td>\n",
       "      <td>0.245340</td>\n",
       "      <td>...</td>\n",
       "      <td>0.084911</td>\n",
       "      <td>0.419380</td>\n",
       "      <td>0.271641</td>\n",
       "      <td>1.028589</td>\n",
       "      <td>0.032470</td>\n",
       "      <td>0.248650</td>\n",
       "      <td>0.130752</td>\n",
       "      <td>1.027831</td>\n",
       "      <td>0.017092</td>\n",
       "      <td>0.229988</td>\n",
       "    </tr>\n",
       "  </tbody>\n",
       "</table>\n",
       "<p>5 rows × 133 columns</p>\n",
       "</div>"
      ],
      "text/plain": [
       "  class        x1        y1        z1        v1        x2        y2        z2  \\\n",
       "0  Down  0.227216  0.571094 -0.257690  0.999994  0.232845  0.555611 -0.230651   \n",
       "1  Down  0.235080  0.623923 -0.333948  0.999922  0.238113  0.611175 -0.308579   \n",
       "2  Down  0.232097  0.574195 -0.226946  0.999985  0.235886  0.560842 -0.198609   \n",
       "3  Down  0.236788  0.630142 -0.321774  0.999971  0.239395  0.616342 -0.300153   \n",
       "4  Down  0.239528  0.629507 -0.325043  0.999986  0.242136  0.614786 -0.302403   \n",
       "\n",
       "         v2        x3  ...       z31       v31       x32       y32       z32  \\\n",
       "0  0.999993  0.236205  ...  0.172732  0.252686  0.234479  1.056914  0.083820   \n",
       "1  0.999929  0.241612  ... -0.013395  0.363007  0.260519  1.060243 -0.072519   \n",
       "2  0.999984  0.239084  ...  0.107273  0.258590  0.225889  1.046079  0.065021   \n",
       "3  0.999976  0.242642  ...  0.100267  0.373190  0.268318  1.026149  0.046115   \n",
       "4  0.999985  0.245340  ...  0.084911  0.419380  0.271641  1.028589  0.032470   \n",
       "\n",
       "        v32       x33       y33       z33       v33  \n",
       "0  0.360088  0.103202  1.087854  0.092280  0.268347  \n",
       "1  0.309654  0.119329  1.061707 -0.103866  0.260115  \n",
       "2  0.316079  0.097413  1.073070  0.027996  0.305728  \n",
       "3  0.239335  0.125047  1.024563  0.044726  0.191303  \n",
       "4  0.248650  0.130752  1.027831  0.017092  0.229988  \n",
       "\n",
       "[5 rows x 133 columns]"
      ]
     },
     "execution_count": 5,
     "metadata": {},
     "output_type": "execute_result"
    }
   ],
   "source": [
    "df.head()"
   ]
  },
  {
   "cell_type": "code",
   "execution_count": 6,
   "metadata": {
    "colab": {
     "base_uri": "https://localhost:8080/",
     "height": 424
    },
    "id": "z3KCAIZ_DSke",
    "outputId": "173dd189-eb34-4680-d339-2c834fe8bdef"
   },
   "outputs": [
    {
     "data": {
      "text/html": [
       "<div>\n",
       "<style scoped>\n",
       "    .dataframe tbody tr th:only-of-type {\n",
       "        vertical-align: middle;\n",
       "    }\n",
       "\n",
       "    .dataframe tbody tr th {\n",
       "        vertical-align: top;\n",
       "    }\n",
       "\n",
       "    .dataframe thead th {\n",
       "        text-align: right;\n",
       "    }\n",
       "</style>\n",
       "<table border=\"1\" class=\"dataframe\">\n",
       "  <thead>\n",
       "    <tr style=\"text-align: right;\">\n",
       "      <th></th>\n",
       "      <th>x1</th>\n",
       "      <th>y1</th>\n",
       "      <th>z1</th>\n",
       "      <th>v1</th>\n",
       "      <th>x2</th>\n",
       "      <th>y2</th>\n",
       "      <th>z2</th>\n",
       "      <th>v2</th>\n",
       "      <th>x3</th>\n",
       "      <th>y3</th>\n",
       "      <th>...</th>\n",
       "      <th>z31</th>\n",
       "      <th>v31</th>\n",
       "      <th>x32</th>\n",
       "      <th>y32</th>\n",
       "      <th>z32</th>\n",
       "      <th>v32</th>\n",
       "      <th>x33</th>\n",
       "      <th>y33</th>\n",
       "      <th>z33</th>\n",
       "      <th>v33</th>\n",
       "    </tr>\n",
       "  </thead>\n",
       "  <tbody>\n",
       "    <tr>\n",
       "      <th>0</th>\n",
       "      <td>0.227216</td>\n",
       "      <td>0.571094</td>\n",
       "      <td>-0.257690</td>\n",
       "      <td>0.999994</td>\n",
       "      <td>0.232845</td>\n",
       "      <td>0.555611</td>\n",
       "      <td>-0.230651</td>\n",
       "      <td>0.999993</td>\n",
       "      <td>0.236205</td>\n",
       "      <td>0.555673</td>\n",
       "      <td>...</td>\n",
       "      <td>0.172732</td>\n",
       "      <td>0.252686</td>\n",
       "      <td>0.234479</td>\n",
       "      <td>1.056914</td>\n",
       "      <td>0.083820</td>\n",
       "      <td>0.360088</td>\n",
       "      <td>0.103202</td>\n",
       "      <td>1.087854</td>\n",
       "      <td>0.092280</td>\n",
       "      <td>0.268347</td>\n",
       "    </tr>\n",
       "    <tr>\n",
       "      <th>1</th>\n",
       "      <td>0.235080</td>\n",
       "      <td>0.623923</td>\n",
       "      <td>-0.333948</td>\n",
       "      <td>0.999922</td>\n",
       "      <td>0.238113</td>\n",
       "      <td>0.611175</td>\n",
       "      <td>-0.308579</td>\n",
       "      <td>0.999929</td>\n",
       "      <td>0.241612</td>\n",
       "      <td>0.611204</td>\n",
       "      <td>...</td>\n",
       "      <td>-0.013395</td>\n",
       "      <td>0.363007</td>\n",
       "      <td>0.260519</td>\n",
       "      <td>1.060243</td>\n",
       "      <td>-0.072519</td>\n",
       "      <td>0.309654</td>\n",
       "      <td>0.119329</td>\n",
       "      <td>1.061707</td>\n",
       "      <td>-0.103866</td>\n",
       "      <td>0.260115</td>\n",
       "    </tr>\n",
       "    <tr>\n",
       "      <th>2</th>\n",
       "      <td>0.232097</td>\n",
       "      <td>0.574195</td>\n",
       "      <td>-0.226946</td>\n",
       "      <td>0.999985</td>\n",
       "      <td>0.235886</td>\n",
       "      <td>0.560842</td>\n",
       "      <td>-0.198609</td>\n",
       "      <td>0.999984</td>\n",
       "      <td>0.239084</td>\n",
       "      <td>0.561050</td>\n",
       "      <td>...</td>\n",
       "      <td>0.107273</td>\n",
       "      <td>0.258590</td>\n",
       "      <td>0.225889</td>\n",
       "      <td>1.046079</td>\n",
       "      <td>0.065021</td>\n",
       "      <td>0.316079</td>\n",
       "      <td>0.097413</td>\n",
       "      <td>1.073070</td>\n",
       "      <td>0.027996</td>\n",
       "      <td>0.305728</td>\n",
       "    </tr>\n",
       "    <tr>\n",
       "      <th>3</th>\n",
       "      <td>0.236788</td>\n",
       "      <td>0.630142</td>\n",
       "      <td>-0.321774</td>\n",
       "      <td>0.999971</td>\n",
       "      <td>0.239395</td>\n",
       "      <td>0.616342</td>\n",
       "      <td>-0.300153</td>\n",
       "      <td>0.999976</td>\n",
       "      <td>0.242642</td>\n",
       "      <td>0.616271</td>\n",
       "      <td>...</td>\n",
       "      <td>0.100267</td>\n",
       "      <td>0.373190</td>\n",
       "      <td>0.268318</td>\n",
       "      <td>1.026149</td>\n",
       "      <td>0.046115</td>\n",
       "      <td>0.239335</td>\n",
       "      <td>0.125047</td>\n",
       "      <td>1.024563</td>\n",
       "      <td>0.044726</td>\n",
       "      <td>0.191303</td>\n",
       "    </tr>\n",
       "    <tr>\n",
       "      <th>4</th>\n",
       "      <td>0.239528</td>\n",
       "      <td>0.629507</td>\n",
       "      <td>-0.325043</td>\n",
       "      <td>0.999986</td>\n",
       "      <td>0.242136</td>\n",
       "      <td>0.614786</td>\n",
       "      <td>-0.302403</td>\n",
       "      <td>0.999985</td>\n",
       "      <td>0.245340</td>\n",
       "      <td>0.614767</td>\n",
       "      <td>...</td>\n",
       "      <td>0.084911</td>\n",
       "      <td>0.419380</td>\n",
       "      <td>0.271641</td>\n",
       "      <td>1.028589</td>\n",
       "      <td>0.032470</td>\n",
       "      <td>0.248650</td>\n",
       "      <td>0.130752</td>\n",
       "      <td>1.027831</td>\n",
       "      <td>0.017092</td>\n",
       "      <td>0.229988</td>\n",
       "    </tr>\n",
       "    <tr>\n",
       "      <th>...</th>\n",
       "      <td>...</td>\n",
       "      <td>...</td>\n",
       "      <td>...</td>\n",
       "      <td>...</td>\n",
       "      <td>...</td>\n",
       "      <td>...</td>\n",
       "      <td>...</td>\n",
       "      <td>...</td>\n",
       "      <td>...</td>\n",
       "      <td>...</td>\n",
       "      <td>...</td>\n",
       "      <td>...</td>\n",
       "      <td>...</td>\n",
       "      <td>...</td>\n",
       "      <td>...</td>\n",
       "      <td>...</td>\n",
       "      <td>...</td>\n",
       "      <td>...</td>\n",
       "      <td>...</td>\n",
       "      <td>...</td>\n",
       "      <td>...</td>\n",
       "    </tr>\n",
       "    <tr>\n",
       "      <th>187</th>\n",
       "      <td>0.652559</td>\n",
       "      <td>0.384401</td>\n",
       "      <td>-0.565634</td>\n",
       "      <td>0.999997</td>\n",
       "      <td>0.654903</td>\n",
       "      <td>0.370195</td>\n",
       "      <td>-0.543182</td>\n",
       "      <td>0.999990</td>\n",
       "      <td>0.657561</td>\n",
       "      <td>0.370329</td>\n",
       "      <td>...</td>\n",
       "      <td>0.069634</td>\n",
       "      <td>0.878384</td>\n",
       "      <td>0.738928</td>\n",
       "      <td>0.962665</td>\n",
       "      <td>0.205430</td>\n",
       "      <td>0.986853</td>\n",
       "      <td>0.543628</td>\n",
       "      <td>0.990409</td>\n",
       "      <td>-0.116888</td>\n",
       "      <td>0.990357</td>\n",
       "    </tr>\n",
       "    <tr>\n",
       "      <th>188</th>\n",
       "      <td>0.640432</td>\n",
       "      <td>0.372253</td>\n",
       "      <td>-0.520500</td>\n",
       "      <td>0.999995</td>\n",
       "      <td>0.647519</td>\n",
       "      <td>0.361914</td>\n",
       "      <td>-0.499420</td>\n",
       "      <td>0.999984</td>\n",
       "      <td>0.651723</td>\n",
       "      <td>0.362484</td>\n",
       "      <td>...</td>\n",
       "      <td>0.061930</td>\n",
       "      <td>0.866915</td>\n",
       "      <td>0.739747</td>\n",
       "      <td>0.962498</td>\n",
       "      <td>0.205011</td>\n",
       "      <td>0.984907</td>\n",
       "      <td>0.546078</td>\n",
       "      <td>0.993773</td>\n",
       "      <td>-0.121858</td>\n",
       "      <td>0.990070</td>\n",
       "    </tr>\n",
       "    <tr>\n",
       "      <th>189</th>\n",
       "      <td>0.654555</td>\n",
       "      <td>0.378527</td>\n",
       "      <td>-0.552785</td>\n",
       "      <td>0.999999</td>\n",
       "      <td>0.656806</td>\n",
       "      <td>0.366970</td>\n",
       "      <td>-0.530430</td>\n",
       "      <td>0.999996</td>\n",
       "      <td>0.659643</td>\n",
       "      <td>0.367455</td>\n",
       "      <td>...</td>\n",
       "      <td>0.045492</td>\n",
       "      <td>0.929146</td>\n",
       "      <td>0.739033</td>\n",
       "      <td>0.961398</td>\n",
       "      <td>0.242007</td>\n",
       "      <td>0.992201</td>\n",
       "      <td>0.542767</td>\n",
       "      <td>0.993371</td>\n",
       "      <td>-0.139529</td>\n",
       "      <td>0.995800</td>\n",
       "    </tr>\n",
       "    <tr>\n",
       "      <th>190</th>\n",
       "      <td>0.230253</td>\n",
       "      <td>0.412635</td>\n",
       "      <td>-0.378417</td>\n",
       "      <td>0.999992</td>\n",
       "      <td>0.231486</td>\n",
       "      <td>0.402102</td>\n",
       "      <td>-0.358122</td>\n",
       "      <td>0.999975</td>\n",
       "      <td>0.233989</td>\n",
       "      <td>0.402007</td>\n",
       "      <td>...</td>\n",
       "      <td>0.010464</td>\n",
       "      <td>0.861011</td>\n",
       "      <td>0.312121</td>\n",
       "      <td>0.884853</td>\n",
       "      <td>0.141471</td>\n",
       "      <td>0.982586</td>\n",
       "      <td>0.170636</td>\n",
       "      <td>0.930454</td>\n",
       "      <td>-0.157911</td>\n",
       "      <td>0.990021</td>\n",
       "    </tr>\n",
       "    <tr>\n",
       "      <th>191</th>\n",
       "      <td>0.505240</td>\n",
       "      <td>0.445323</td>\n",
       "      <td>-0.200573</td>\n",
       "      <td>0.999960</td>\n",
       "      <td>0.509202</td>\n",
       "      <td>0.439694</td>\n",
       "      <td>-0.192489</td>\n",
       "      <td>0.999872</td>\n",
       "      <td>0.511259</td>\n",
       "      <td>0.439932</td>\n",
       "      <td>...</td>\n",
       "      <td>0.116418</td>\n",
       "      <td>0.895703</td>\n",
       "      <td>0.544433</td>\n",
       "      <td>0.757576</td>\n",
       "      <td>-0.054504</td>\n",
       "      <td>0.980660</td>\n",
       "      <td>0.454850</td>\n",
       "      <td>0.749508</td>\n",
       "      <td>0.035852</td>\n",
       "      <td>0.974802</td>\n",
       "    </tr>\n",
       "  </tbody>\n",
       "</table>\n",
       "<p>192 rows × 132 columns</p>\n",
       "</div>"
      ],
      "text/plain": [
       "           x1        y1        z1        v1        x2        y2        z2  \\\n",
       "0    0.227216  0.571094 -0.257690  0.999994  0.232845  0.555611 -0.230651   \n",
       "1    0.235080  0.623923 -0.333948  0.999922  0.238113  0.611175 -0.308579   \n",
       "2    0.232097  0.574195 -0.226946  0.999985  0.235886  0.560842 -0.198609   \n",
       "3    0.236788  0.630142 -0.321774  0.999971  0.239395  0.616342 -0.300153   \n",
       "4    0.239528  0.629507 -0.325043  0.999986  0.242136  0.614786 -0.302403   \n",
       "..        ...       ...       ...       ...       ...       ...       ...   \n",
       "187  0.652559  0.384401 -0.565634  0.999997  0.654903  0.370195 -0.543182   \n",
       "188  0.640432  0.372253 -0.520500  0.999995  0.647519  0.361914 -0.499420   \n",
       "189  0.654555  0.378527 -0.552785  0.999999  0.656806  0.366970 -0.530430   \n",
       "190  0.230253  0.412635 -0.378417  0.999992  0.231486  0.402102 -0.358122   \n",
       "191  0.505240  0.445323 -0.200573  0.999960  0.509202  0.439694 -0.192489   \n",
       "\n",
       "           v2        x3        y3  ...       z31       v31       x32  \\\n",
       "0    0.999993  0.236205  0.555673  ...  0.172732  0.252686  0.234479   \n",
       "1    0.999929  0.241612  0.611204  ... -0.013395  0.363007  0.260519   \n",
       "2    0.999984  0.239084  0.561050  ...  0.107273  0.258590  0.225889   \n",
       "3    0.999976  0.242642  0.616271  ...  0.100267  0.373190  0.268318   \n",
       "4    0.999985  0.245340  0.614767  ...  0.084911  0.419380  0.271641   \n",
       "..        ...       ...       ...  ...       ...       ...       ...   \n",
       "187  0.999990  0.657561  0.370329  ...  0.069634  0.878384  0.738928   \n",
       "188  0.999984  0.651723  0.362484  ...  0.061930  0.866915  0.739747   \n",
       "189  0.999996  0.659643  0.367455  ...  0.045492  0.929146  0.739033   \n",
       "190  0.999975  0.233989  0.402007  ...  0.010464  0.861011  0.312121   \n",
       "191  0.999872  0.511259  0.439932  ...  0.116418  0.895703  0.544433   \n",
       "\n",
       "          y32       z32       v32       x33       y33       z33       v33  \n",
       "0    1.056914  0.083820  0.360088  0.103202  1.087854  0.092280  0.268347  \n",
       "1    1.060243 -0.072519  0.309654  0.119329  1.061707 -0.103866  0.260115  \n",
       "2    1.046079  0.065021  0.316079  0.097413  1.073070  0.027996  0.305728  \n",
       "3    1.026149  0.046115  0.239335  0.125047  1.024563  0.044726  0.191303  \n",
       "4    1.028589  0.032470  0.248650  0.130752  1.027831  0.017092  0.229988  \n",
       "..        ...       ...       ...       ...       ...       ...       ...  \n",
       "187  0.962665  0.205430  0.986853  0.543628  0.990409 -0.116888  0.990357  \n",
       "188  0.962498  0.205011  0.984907  0.546078  0.993773 -0.121858  0.990070  \n",
       "189  0.961398  0.242007  0.992201  0.542767  0.993371 -0.139529  0.995800  \n",
       "190  0.884853  0.141471  0.982586  0.170636  0.930454 -0.157911  0.990021  \n",
       "191  0.757576 -0.054504  0.980660  0.454850  0.749508  0.035852  0.974802  \n",
       "\n",
       "[192 rows x 132 columns]"
      ]
     },
     "execution_count": 6,
     "metadata": {},
     "output_type": "execute_result"
    }
   ],
   "source": [
    "y=df['class']\n",
    "X = df.drop(['class'], axis=1)\n",
    "X\n"
   ]
  },
  {
   "cell_type": "code",
   "execution_count": 7,
   "metadata": {
    "id": "nkwNLd82DSq1"
   },
   "outputs": [],
   "source": [
    "X_train, X_test, y_train, y_test = train_test_split(X,y,test_size=.2, random_state=42)"
   ]
  },
  {
   "cell_type": "code",
   "execution_count": null,
   "metadata": {
    "colab": {
     "base_uri": "https://localhost:8080/",
     "height": 424
    },
    "id": "NsBCxscuLxhT",
    "outputId": "1112f39d-c3fb-42ec-8a5a-60c805b81b6b"
   },
   "outputs": [],
   "source": []
  },
  {
   "cell_type": "code",
   "execution_count": 8,
   "metadata": {
    "id": "2R4oXTcfLxk0"
   },
   "outputs": [],
   "source": [
    "from sklearn.pipeline import make_pipeline\n",
    "from sklearn.preprocessing import StandardScaler\n",
    "from sklearn.linear_model import LogisticRegression, RidgeClassifier\n",
    "from sklearn.ensemble import RandomForestClassifier, GradientBoostingClassifier"
   ]
  },
  {
   "cell_type": "code",
   "execution_count": 9,
   "metadata": {
    "id": "gNb8LAedLxnZ"
   },
   "outputs": [],
   "source": [
    "pipelines = {\n",
    "    'lr':make_pipeline(StandardScaler(), LogisticRegression()),\n",
    "    'rc':make_pipeline(StandardScaler(), RidgeClassifier()),\n",
    "    'rf': make_pipeline(StandardScaler(), RandomForestClassifier()),\n",
    "    'gb': make_pipeline(StandardScaler(), GradientBoostingClassifier()),\n",
    "}"
   ]
  },
  {
   "cell_type": "code",
   "execution_count": 10,
   "metadata": {
    "id": "kWQ9woRGLxpr"
   },
   "outputs": [],
   "source": [
    "fit_models = {}\n",
    "for algo, pipeline in pipelines.items():\n",
    "    model = pipeline.fit(X_train,y_train)\n",
    "    fit_models[algo] = model"
   ]
  },
  {
   "cell_type": "code",
   "execution_count": 11,
   "metadata": {
    "colab": {
     "base_uri": "https://localhost:8080/"
    },
    "id": "OPyScOV3LxsI",
    "outputId": "a8a27456-7431-435c-fada-ca2324ebf75a"
   },
   "outputs": [
    {
     "data": {
      "text/plain": [
       "{'lr': Pipeline(steps=[('standardscaler', StandardScaler()),\n",
       "                 ('logisticregression', LogisticRegression())]),\n",
       " 'rc': Pipeline(steps=[('standardscaler', StandardScaler()),\n",
       "                 ('ridgeclassifier', RidgeClassifier())]),\n",
       " 'rf': Pipeline(steps=[('standardscaler', StandardScaler()),\n",
       "                 ('randomforestclassifier', RandomForestClassifier())]),\n",
       " 'gb': Pipeline(steps=[('standardscaler', StandardScaler()),\n",
       "                 ('gradientboostingclassifier', GradientBoostingClassifier())])}"
      ]
     },
     "execution_count": 11,
     "metadata": {},
     "output_type": "execute_result"
    }
   ],
   "source": [
    "fit_models"
   ]
  },
  {
   "cell_type": "code",
   "execution_count": 12,
   "metadata": {
    "colab": {
     "base_uri": "https://localhost:8080/"
    },
    "id": "6myhaZ1cLxux",
    "outputId": "0df566c9-9b4f-4e96-ba25-5288017abd5e"
   },
   "outputs": [
    {
     "data": {
      "text/plain": [
       "array(['Down', 'Up', 'Down', 'Up', 'Up', 'Up', 'Down', 'Down', 'Down',\n",
       "       'Down', 'Down', 'Up', 'Down', 'Down', 'Up', 'Down', 'Up', 'Down',\n",
       "       'Up', 'Down', 'Up', 'Up', 'Up', 'Up', 'Down', 'Up', 'Down', 'Up',\n",
       "       'Down', 'Up', 'Up', 'Up', 'Down', 'Down', 'Up', 'Down', 'Up', 'Up',\n",
       "       'Up'], dtype='<U4')"
      ]
     },
     "execution_count": 12,
     "metadata": {},
     "output_type": "execute_result"
    }
   ],
   "source": [
    "fit_models['rc'].predict(X_test)"
   ]
  },
  {
   "cell_type": "code",
   "execution_count": 13,
   "metadata": {
    "id": "CxrifXd2Lxxe"
   },
   "outputs": [],
   "source": [
    "from sklearn.metrics import accuracy_score, precision_score, recall_score\n",
    "import pickle"
   ]
  },
  {
   "cell_type": "code",
   "execution_count": 14,
   "metadata": {
    "colab": {
     "base_uri": "https://localhost:8080/"
    },
    "id": "Mune2Cr2Pmb8",
    "outputId": "90a37757-3cf8-46cc-e712-7bbc89422089"
   },
   "outputs": [
    {
     "name": "stdout",
     "output_type": "stream",
     "text": [
      "lr 0.9743589743589743 1.0 0.9523809523809523\n",
      "rc 1.0 1.0 1.0\n",
      "rf 1.0 1.0 1.0\n",
      "gb 0.9743589743589743 1.0 0.9523809523809523\n"
     ]
    }
   ],
   "source": [
    "for algo, model in fit_models.items():\n",
    "    yhat= model.predict(X_test)\n",
    "    print(algo, accuracy_score(y_test.values,yhat),\n",
    "        precision_score(y_test.values, yhat,average='binary', pos_label=\"Up\"),\n",
    "        recall_score(y_test.values, yhat, average='binary', pos_label=\"Up\"))"
   ]
  },
  {
   "cell_type": "code",
   "execution_count": 15,
   "metadata": {
    "id": "2rXF6oX0PmfK"
   },
   "outputs": [],
   "source": [
    "yhat=fit_models['rf'].predict(X_test)"
   ]
  },
  {
   "cell_type": "code",
   "execution_count": 16,
   "metadata": {
    "colab": {
     "base_uri": "https://localhost:8080/"
    },
    "id": "eThJPAEePmjG",
    "outputId": "9a96bd25-0475-4208-eb73-a2b97a23eead"
   },
   "outputs": [
    {
     "data": {
      "text/plain": [
       "array(['Down', 'Up', 'Down', 'Up', 'Up', 'Up', 'Down', 'Down', 'Down',\n",
       "       'Down'], dtype=object)"
      ]
     },
     "execution_count": 16,
     "metadata": {},
     "output_type": "execute_result"
    }
   ],
   "source": [
    "yhat[:10]"
   ]
  },
  {
   "cell_type": "code",
   "execution_count": 17,
   "metadata": {
    "id": "DeK3IPWHPmpL"
   },
   "outputs": [],
   "source": [
    "with open('Squat.pkl', 'wb') as f:\n",
    "    pickle.dump(fit_models['rf'],f)"
   ]
  },
  {
   "cell_type": "code",
   "execution_count": 18,
   "metadata": {
    "id": "juI7Mxk-RKg0"
   },
   "outputs": [],
   "source": [
    "with open('Squat.pkl', 'rb') as f:\n",
    "    model = pickle.load(f)"
   ]
  },
  {
   "cell_type": "code",
   "execution_count": 19,
   "metadata": {
    "id": "4dVZ9m-VVj9K"
   },
   "outputs": [],
   "source": [
    "mp_drawing = mp.solutions.drawing_utils\n",
    "mp_drawing_styles = mp.solutions.drawing_styles\n",
    "mp_holistic = mp.solutions.holistic\n",
    "mp_pose= mp.solutions.pose"
   ]
  },
  {
   "cell_type": "code",
   "execution_count": 20,
   "metadata": {},
   "outputs": [
    {
     "ename": "NameError",
     "evalue": "name 'cap' is not defined",
     "output_type": "error",
     "traceback": [
      "\u001b[0;31m---------------------------------------------------------------------------\u001b[0m",
      "\u001b[0;31mNameError\u001b[0m                                 Traceback (most recent call last)",
      "\u001b[0;32m/var/folders/1s/wk0b_qfd1v53f_3c_g_zcq7c0000gn/T/ipykernel_91883/79584206.py\u001b[0m in \u001b[0;36m<module>\u001b[0;34m\u001b[0m\n\u001b[0;32m----> 1\u001b[0;31m \u001b[0mcap\u001b[0m\u001b[0;34m.\u001b[0m\u001b[0mrelease\u001b[0m\u001b[0;34m(\u001b[0m\u001b[0;34m)\u001b[0m\u001b[0;34m\u001b[0m\u001b[0;34m\u001b[0m\u001b[0m\n\u001b[0m\u001b[1;32m      2\u001b[0m \u001b[0mcv2\u001b[0m\u001b[0;34m.\u001b[0m\u001b[0mdestroyAllWindows\u001b[0m\u001b[0;34m(\u001b[0m\u001b[0;34m)\u001b[0m\u001b[0;34m\u001b[0m\u001b[0;34m\u001b[0m\u001b[0m\n",
      "\u001b[0;31mNameError\u001b[0m: name 'cap' is not defined"
     ]
    }
   ],
   "source": [
    "#cap.release()\n",
    "#cv2.destroyAllWindows()"
   ]
  },
  {
   "cell_type": "code",
   "execution_count": 22,
   "metadata": {
    "id": "TZbe-MF1RKjS"
   },
   "outputs": [
    {
     "name": "stdout",
     "output_type": "stream",
     "text": [
      "Up [0.23 0.77]\n",
      "Up [0.22 0.78]\n",
      "Up [0.22 0.78]\n",
      "Up [0.23 0.77]\n",
      "Up [0.23 0.77]\n",
      "Up [0.23 0.77]\n",
      "Up [0.22 0.78]\n",
      "Up [0.22 0.78]\n",
      "Up [0.22 0.78]\n",
      "Up [0.23 0.77]\n",
      "Up [0.23 0.77]\n",
      "Up [0.23 0.77]\n",
      "Up [0.24 0.76]\n",
      "Up [0.24 0.76]\n",
      "Up [0.24 0.76]\n",
      "Up [0.23 0.77]\n",
      "Up [0.24 0.76]\n",
      "Up [0.24 0.76]\n",
      "Up [0.24 0.76]\n",
      "Up [0.24 0.76]\n",
      "Up [0.24 0.76]\n",
      "Up [0.23 0.77]\n",
      "Up [0.23 0.77]\n",
      "Up [0.21 0.79]\n",
      "Up [0.23 0.77]\n",
      "Up [0.22 0.78]\n",
      "Up [0.22 0.78]\n",
      "Up [0.22 0.78]\n",
      "Up [0.22 0.78]\n",
      "Up [0.23 0.77]\n",
      "Up [0.18 0.82]\n",
      "Up [0.23 0.77]\n",
      "Up [0.23 0.77]\n",
      "Up [0.22 0.78]\n",
      "Up [0.17 0.83]\n",
      "Up [0.18 0.82]\n",
      "Up [0.17 0.83]\n",
      "Up [0.17 0.83]\n",
      "Up [0.22 0.78]\n",
      "Up [0.23 0.77]\n",
      "Up [0.23 0.77]\n",
      "Up [0.23 0.77]\n",
      "Up [0.23 0.77]\n",
      "Up [0.23 0.77]\n",
      "Up [0.23 0.77]\n",
      "Up [0.23 0.77]\n",
      "Up [0.22 0.78]\n",
      "Up [0.22 0.78]\n",
      "Up [0.22 0.78]\n",
      "Up [0.22 0.78]\n",
      "Up [0.19 0.81]\n",
      "Up [0.21 0.79]\n",
      "Up [0.23 0.77]\n",
      "Up [0.2 0.8]\n",
      "Up [0.23 0.77]\n",
      "Up [0.23 0.77]\n",
      "Up [0.21 0.79]\n",
      "Up [0.24 0.76]\n",
      "Up [0.18 0.82]\n",
      "Up [0.18 0.82]\n",
      "Up [0.18 0.82]\n",
      "Up [0.18 0.82]\n",
      "Up [0.17 0.83]\n",
      "Up [0.2 0.8]\n",
      "Up [0.22 0.78]\n",
      "Up [0.22 0.78]\n",
      "Up [0.23 0.77]\n",
      "Up [0.23 0.77]\n",
      "Up [0.21 0.79]\n",
      "Up [0.21 0.79]\n",
      "Up [0.21 0.79]\n",
      "Up [0.21 0.79]\n",
      "Up [0.17 0.83]\n",
      "Up [0.23 0.77]\n",
      "Up [0.22 0.78]\n",
      "Up [0.22 0.78]\n",
      "Up [0.22 0.78]\n",
      "Up [0.22 0.78]\n",
      "Up [0.22 0.78]\n",
      "Up [0.22 0.78]\n",
      "Up [0.22 0.78]\n",
      "Up [0.23 0.77]\n",
      "Up [0.24 0.76]\n",
      "Up [0.24 0.76]\n",
      "Up [0.23 0.77]\n",
      "Up [0.23 0.77]\n",
      "Up [0.23 0.77]\n",
      "Up [0.23 0.77]\n",
      "Up [0.23 0.77]\n",
      "Up [0.24 0.76]\n"
     ]
    }
   ],
   "source": [
    "cap = cv2.VideoCapture(0)\n",
    "counter=0\n",
    "current_stage=''\n",
    "with mp_pose.Pose(min_detection_confidence=.5,min_tracking_confidence=.5) as pose:\n",
    "\n",
    "    while cap.isOpened():\n",
    "        ret, frame = cap.read()\n",
    "\n",
    "        image = cv2.cvtColor(frame, cv2.COLOR_BGR2RGB)\n",
    "        image.flags.writeable = False\n",
    "        results = pose.process(image)\n",
    "\n",
    "        image.flags.writeable = True\n",
    "        image = cv2.cvtColor(image, cv2.COLOR_RGB2BGR)\n",
    "\n",
    "        mp_drawing.draw_landmarks(image, results.pose_landmarks, mp_pose.POSE_CONNECTIONS,\n",
    "                              mp_drawing.DrawingSpec(color=(245,117,66), thickness=2, circle_radius=4),\n",
    "                               mp_drawing.DrawingSpec(color=(245,88,130), thickness=2, circle_radius=3))\n",
    "    \n",
    "        try:\n",
    "            row=np.array([[res.x,res.y,res.z,res.visibility] for res in results.pose_landmarks.landmark]).flatten().tolist()\n",
    "            X= pd.DataFrame([row], columns=landmarks[1:])\n",
    "            body_language_class= model.predict(X)[0]\n",
    "            body_language_prob=model.predict_proba(X)[0]\n",
    "            print(body_language_class,body_language_prob)\n",
    "\n",
    "            if body_language_class=='Down' and body_language_prob[body_language_prob.argmax()]>=.7:\n",
    "                current_stage='Down'\n",
    "            elif current_stage=='Down' and body_language_prob[body_language_prob.argmax()]<.7:\n",
    "                current_stage=='Up'\n",
    "                counter +=1\n",
    "                print(current_stage)\n",
    "\n",
    "\n",
    "            cv2.rectangle(image, (0,0), (250,60), (245,117,16), -1)\n",
    "        \n",
    "        # Rep data\n",
    "            cv2.putText(image, 'Class', (95,12), \n",
    "                    cv2.FONT_HERSHEY_SIMPLEX, 0.5, (0,0,0), 1, cv2.LINE_AA)\n",
    "            cv2.putText(image, str(current_stage),\n",
    "                    (90,40), cv2.FONT_HERSHEY_COMPLEX,1,(255,255,255),2,cv2.LINE_AA)\n",
    "       \n",
    "            cv2.putText(image, 'Prob', \n",
    "                    (15,12), cv2.FONT_HERSHEY_SIMPLEX, 0.5, (0,0,0), 1, cv2.LINE_AA),\n",
    "            cv2.putText(image, str(round(body_language_prob[np.argmax(body_language_prob)],2)),\n",
    "                    (10,40), cv2.FONT_HERSHEY_COMPLEX,1,(255,255,255),2,cv2.LINE_AA)\n",
    "        \n",
    "        # Stage data\n",
    "            cv2.putText(image, 'Count',\n",
    "                    (180,40),cv2.FONT_HERSHEY_SIMPLEX, 0.5, (0,0,0), 1, cv2.LINE_AA)\n",
    "            cv2.putText(image, str(counter), \n",
    "                    (175,40), \n",
    "                    cv2.FONT_HERSHEY_SIMPLEX, 1, (255,255,255), 2, cv2.LINE_AA)\n",
    "      \n",
    "        except Exception as e:\n",
    "            pass\n",
    "\n",
    "            cv2.imshow('Raw Webcam Feed', image)\n",
    "     \n",
    "\n",
    "        if cv2.waitKey(10) & 0xFF == ord('q'):\n",
    "            break\n",
    "cap.release()\n",
    "cv2.destroyAllWindows()\n"
   ]
  },
  {
   "cell_type": "markdown",
   "metadata": {},
   "source": [
    "27"
   ]
  },
  {
   "cell_type": "code",
   "execution_count": null,
   "metadata": {},
   "outputs": [],
   "source": []
  }
 ],
 "metadata": {
  "colab": {
   "provenance": []
  },
  "kernelspec": {
   "display_name": "Python 3 (ipykernel)",
   "language": "python",
   "name": "python3"
  },
  "language_info": {
   "codemirror_mode": {
    "name": "ipython",
    "version": 3
   },
   "file_extension": ".py",
   "mimetype": "text/x-python",
   "name": "python",
   "nbconvert_exporter": "python",
   "pygments_lexer": "ipython3",
   "version": "3.9.7"
  }
 },
 "nbformat": 4,
 "nbformat_minor": 4
}
